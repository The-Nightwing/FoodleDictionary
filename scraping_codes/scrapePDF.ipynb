{
 "cells": [
  {
   "cell_type": "code",
   "execution_count": 1,
   "metadata": {},
   "outputs": [],
   "source": [
    "# scrape text from pdf file\n",
    "import PyPDF2\n",
    "import re\n",
    "import os\n",
    "\n",
    "# get all pdf files in the directory\n",
    "dictionary = {'word':[], 'meaning':[]}\n",
    "def extractPDF(filename):\n",
    "    counter = 0\n",
    "    pdfFileObj = open(filename, 'rb')\n",
    "    pdfReader = PyPDF2.PdfFileReader(pdfFileObj)\n",
    "    numPages = pdfReader.numPages\n",
    "    for pageNum in range(numPages):\n",
    "        pageObj = pdfReader.getPage(pageNum)\n",
    "        text = pageObj.extractText()\n",
    "        text = re.sub(r'[^\\x00-\\x7f]',r'', text)\n",
    "        with open('hehe.txt', 'a') as f:\n",
    "            f.write(text)\n",
    "    pdfFileObj.close()\n"
   ]
  },
  {
   "cell_type": "code",
   "execution_count": 2,
   "metadata": {},
   "outputs": [],
   "source": [
    "def processDictionary(dictionary):\n",
    "    for i in range(len(dictionary['word'])):\n",
    "        dictionary['word'][i] = re.sub(r'\\d+\\.', '', dictionary['word'][i])\n",
    "\n",
    "    #make keys lowercase\n",
    "    for i in range(len(dictionary['word'])):\n",
    "        dictionary['word'][i] = dictionary['word'][i].lower()\n",
    "\n",
    "    #remove dots in words key\n",
    "    for i in range(len(dictionary['word'])):\n",
    "        if '.' in dictionary['word'][i]:\n",
    "            dictionary['word'][i] = dictionary['word'][i].replace('.', '')\n",
    "    \n",
    "        #strip whitespaces\n",
    "        dictionary['word'][i] = dictionary['word'][i].strip()\n",
    "\n",
    "    #word which a re space separated , seperate them by hyphen\n",
    "    for i in range(len(dictionary['word'])):\n",
    "        if ' ' in dictionary['word'][i]:\n",
    "            dictionary['word'][i] = dictionary['word'][i].replace(' ', '-')\n",
    "\n",
    "    #strip whitespaces\n",
    "\n",
    "    return dictionary\n",
    "\n",
    "def processFile(filename):\n",
    "\n",
    "    #split by hyphen and add to dictionary\n",
    "    with open(filename, 'r', encoding='utf-8') as f:\n",
    "        lines = f.readlines()\n",
    "    dictionary = {'word':[], 'meaning':[]}\n",
    "    for line in lines:\n",
    "        word = line.split('-')[0].strip()\n",
    "        meaning = line.split('-')[1]\n",
    "        dictionary['word'].append(word)\n",
    "        #remove new line character from meaning\n",
    "        meaning = meaning.replace('\\n', '')\n",
    "        dictionary['meaning'].append(meaning)\n",
    "\n",
    "\n",
    "    \n",
    "    return processDictionary(dictionary)"
   ]
  },
  {
   "cell_type": "code",
   "execution_count": 8,
   "metadata": {},
   "outputs": [],
   "source": [
    "dictionary = processFile('data.txt')\n",
    "import pandas as pd\n",
    "df = pd.DataFrame.from_dict(dictionary) \n",
    "df.to_csv('dataPDF.csv', index = False, header=True)"
   ]
  },
  {
   "cell_type": "code",
   "execution_count": null,
   "metadata": {},
   "outputs": [],
   "source": []
  }
 ],
 "metadata": {
  "kernelspec": {
   "display_name": "Python 3.8.1 64-bit",
   "language": "python",
   "name": "python3"
  },
  "language_info": {
   "codemirror_mode": {
    "name": "ipython",
    "version": 3
   },
   "file_extension": ".py",
   "mimetype": "text/x-python",
   "name": "python",
   "nbconvert_exporter": "python",
   "pygments_lexer": "ipython3",
   "version": "3.8.1"
  },
  "orig_nbformat": 4,
  "vscode": {
   "interpreter": {
    "hash": "22475eb23e40dd7b65ba6ce08c4232f330744b78bf0f395659ba2343c9d6fca6"
   }
  }
 },
 "nbformat": 4,
 "nbformat_minor": 2
}
