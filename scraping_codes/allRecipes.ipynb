{
 "cells": [
  {
   "cell_type": "code",
   "execution_count": 14,
   "id": "1b325e1a",
   "metadata": {},
   "outputs": [],
   "source": [
    "from bs4 import BeautifulSoup\n",
    "import requests\n",
    "import csv\n",
    "import pandas as pd\n",
    "import re"
   ]
  },
  {
   "cell_type": "code",
   "execution_count": 313,
   "id": "34e4db1e",
   "metadata": {},
   "outputs": [],
   "source": [
    "data = requests.get(url)\n",
    "soup=BeautifulSoup(data.text,\"html.parser\")"
   ]
  },
  {
   "cell_type": "code",
   "execution_count": 314,
   "id": "7162425b",
   "metadata": {},
   "outputs": [],
   "source": [
    "tags = soup.find_all('a', {'class':'comp mntl-card-list-items mntl-document-card mntl-card card card--no-image'}, href=True)\n",
    "words = []"
   ]
  },
  {
   "cell_type": "code",
   "execution_count": 315,
   "id": "35e62677",
   "metadata": {},
   "outputs": [],
   "source": [
    "def scrape_data(url):\n",
    "    ingredients = \"\"\n",
    "    instructions = \"\"\n",
    "    data = requests.get(url)\n",
    "    soup=BeautifulSoup(data.text,\"html.parser\")\n",
    "    tags = soup.find_all('li', {'class':'mntl-structured-ingredients__list-item'})\n",
    "    instructions_tag = soup.find_all('li', {'class':'comp mntl-sc-block-group--LI mntl-sc-block mntl-sc-block-startgroup'})\n",
    "    for x in tags:\n",
    "        ingredients+=x.text.strip()+\" ,\"\n",
    "    for x in instructions_tag:\n",
    "        if 'DOTDASH' not in x.text:\n",
    "            instructions+=x.text.strip()+'\\n'\n",
    "\n",
    "    for x in instructions.split('\\n')\n",
    "        words.append(x)\n",
    "\n",
    "    for x in ingredients.split(',')\n",
    "        words.append(x)\n",
    "    return ingredients, instructions"
   ]
  },
  {
   "cell_type": "code",
   "execution_count": 316,
   "id": "f598d10e",
   "metadata": {},
   "outputs": [],
   "source": [
    "recipe_data = []"
   ]
  },
  {
   "cell_type": "code",
   "execution_count": 317,
   "id": "4e2d06cf",
   "metadata": {},
   "outputs": [],
   "source": [
    "def prepScraping(tags, cuisine):\n",
    "    for tag in tags:\n",
    "        recipe_name = tag.find_all('span', {'class':'card__title'})[0].text\n",
    "        recipe_url = tag['href']\n",
    "        url = tag['href']\n",
    "        ingredients, instructions = scrape_data(url)\n",
    "        recipe_data.append({\n",
    "            'recipe_name':recipe_name, \n",
    "            'recipe_url':recipe_url, \n",
    "            'ingredients':ingredients.strip(),\n",
    "            'instructions': instructions,\n",
    "            'cuisine': cuisine\n",
    "            })"
   ]
  },
  {
   "cell_type": "code",
   "execution_count": 318,
   "id": "22366b84",
   "metadata": {},
   "outputs": [],
   "source": [
    "def filterByCuisine(tags):  \n",
    "    for tag in tags:\n",
    "        scrapeByCategories(tag['href'], tag.text)"
   ]
  },
  {
   "cell_type": "code",
   "execution_count": 319,
   "id": "5e31c0d4",
   "metadata": {},
   "outputs": [],
   "source": [
    "def scrapeByCategories(url, cuisine):\n",
    "    data = requests.get(url)\n",
    "    soup = BeautifulSoup(data.text, \"html.parser\")\n",
    "    tags = soup.find_all('a', {'class':'taxonomy-nodes__link mntl-text-link type--squirrel-link'})\n",
    "    for tag in tags:\n",
    "        data = requests.get(url)\n",
    "        soup = BeautifulSoup(data.text, \"html.parser\")\n",
    "        tags = soup.find_all('a', {'class':'comp mntl-card-list-items mntl-document-card mntl-card card card--no-image'})\n",
    "        prepScraping(tags, cuisine)"
   ]
  },
  {
   "cell_type": "code",
   "execution_count": 320,
   "id": "88c57ca4",
   "metadata": {},
   "outputs": [],
   "source": [
    "if __name__=='__main__':\n",
    "    words = []\n",
    "    url = 'https://www.allrecipes.com/recipes/86/world-cuisine/'\n",
    "    data = requests.get(url)\n",
    "    soup = BeautifulSoup(data.text, \"html.parser\")\n",
    "    tags = soup.find_all('a', {'class':'taxonomy-nodes__link mntl-text-link type--squirrel-link'})\n",
    "    filterByCuisine(tags)"
   ]
  },
  {
   "cell_type": "code",
   "execution_count": null,
   "id": "02ad8252",
   "metadata": {},
   "outputs": [],
   "source": [
    "pd.DataFrame(words).to_csv('words.csv', index=False)"
   ]
  },
  {
   "cell_type": "code",
   "execution_count": 321,
   "id": "d6a289d0",
   "metadata": {},
   "outputs": [
    {
     "ename": "UnicodeEncodeError",
     "evalue": "'charmap' codec can't encode character '\\u2153' in position 116: character maps to <undefined>",
     "output_type": "error",
     "traceback": [
      "\u001b[1;31m---------------------------------------------------------------------------\u001b[0m",
      "\u001b[1;31mUnicodeEncodeError\u001b[0m                        Traceback (most recent call last)",
      "Input \u001b[1;32mIn [321]\u001b[0m, in \u001b[0;36m<cell line: 3>\u001b[1;34m()\u001b[0m\n\u001b[0;32m      4\u001b[0m dict_writer \u001b[38;5;241m=\u001b[39m csv\u001b[38;5;241m.\u001b[39mDictWriter(output_file, keys)\n\u001b[0;32m      5\u001b[0m dict_writer\u001b[38;5;241m.\u001b[39mwriteheader()\n\u001b[1;32m----> 6\u001b[0m \u001b[43mdict_writer\u001b[49m\u001b[38;5;241;43m.\u001b[39;49m\u001b[43mwriterows\u001b[49m\u001b[43m(\u001b[49m\u001b[43mrecipe_data\u001b[49m\u001b[43m)\u001b[49m\n",
      "File \u001b[1;32m~\\AppData\\Local\\Programs\\Python\\Python39\\lib\\csv.py:157\u001b[0m, in \u001b[0;36mDictWriter.writerows\u001b[1;34m(self, rowdicts)\u001b[0m\n\u001b[0;32m    156\u001b[0m \u001b[38;5;28;01mdef\u001b[39;00m \u001b[38;5;21mwriterows\u001b[39m(\u001b[38;5;28mself\u001b[39m, rowdicts):\n\u001b[1;32m--> 157\u001b[0m     \u001b[38;5;28;01mreturn\u001b[39;00m \u001b[38;5;28;43mself\u001b[39;49m\u001b[38;5;241;43m.\u001b[39;49m\u001b[43mwriter\u001b[49m\u001b[38;5;241;43m.\u001b[39;49m\u001b[43mwriterows\u001b[49m\u001b[43m(\u001b[49m\u001b[38;5;28;43mmap\u001b[39;49m\u001b[43m(\u001b[49m\u001b[38;5;28;43mself\u001b[39;49m\u001b[38;5;241;43m.\u001b[39;49m\u001b[43m_dict_to_list\u001b[49m\u001b[43m,\u001b[49m\u001b[43m \u001b[49m\u001b[43mrowdicts\u001b[49m\u001b[43m)\u001b[49m\u001b[43m)\u001b[49m\n",
      "File \u001b[1;32m~\\AppData\\Local\\Programs\\Python\\Python39\\lib\\encodings\\cp1252.py:19\u001b[0m, in \u001b[0;36mIncrementalEncoder.encode\u001b[1;34m(self, input, final)\u001b[0m\n\u001b[0;32m     18\u001b[0m \u001b[38;5;28;01mdef\u001b[39;00m \u001b[38;5;21mencode\u001b[39m(\u001b[38;5;28mself\u001b[39m, \u001b[38;5;28minput\u001b[39m, final\u001b[38;5;241m=\u001b[39m\u001b[38;5;28;01mFalse\u001b[39;00m):\n\u001b[1;32m---> 19\u001b[0m     \u001b[38;5;28;01mreturn\u001b[39;00m \u001b[43mcodecs\u001b[49m\u001b[38;5;241;43m.\u001b[39;49m\u001b[43mcharmap_encode\u001b[49m\u001b[43m(\u001b[49m\u001b[38;5;28;43minput\u001b[39;49m\u001b[43m,\u001b[49m\u001b[38;5;28;43mself\u001b[39;49m\u001b[38;5;241;43m.\u001b[39;49m\u001b[43merrors\u001b[49m\u001b[43m,\u001b[49m\u001b[43mencoding_table\u001b[49m\u001b[43m)\u001b[49m[\u001b[38;5;241m0\u001b[39m]\n",
      "\u001b[1;31mUnicodeEncodeError\u001b[0m: 'charmap' codec can't encode character '\\u2153' in position 116: character maps to <undefined>"
     ]
    }
   ],
   "source": [
    "keys = recipe_data[0].keys()\n",
    "\n",
    "with open('people.csv', 'w', newline='', encoding=\"utf-8\") as output_file:\n",
    "    dict_writer = csv.DictWriter(output_file, keys)\n",
    "    dict_writer.writeheader()\n",
    "    dict_writer.writerows(recipe_data)"
   ]
  },
  {
   "cell_type": "code",
   "execution_count": null,
   "id": "41e93f95",
   "metadata": {},
   "outputs": [],
   "source": []
  }
 ],
 "metadata": {
  "kernelspec": {
   "display_name": "Python 3.8.1 64-bit",
   "language": "python",
   "name": "python3"
  },
  "language_info": {
   "codemirror_mode": {
    "name": "ipython",
    "version": 3
   },
   "file_extension": ".py",
   "mimetype": "text/x-python",
   "name": "python",
   "nbconvert_exporter": "python",
   "pygments_lexer": "ipython3",
   "version": "3.8.1 (tags/v3.8.1:1b293b6, Dec 18 2019, 23:11:46) [MSC v.1916 64 bit (AMD64)]"
  },
  "vscode": {
   "interpreter": {
    "hash": "22475eb23e40dd7b65ba6ce08c4232f330744b78bf0f395659ba2343c9d6fca6"
   }
  }
 },
 "nbformat": 4,
 "nbformat_minor": 5
}
