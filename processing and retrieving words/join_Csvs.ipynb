{
 "cells": [
  {
   "cell_type": "code",
   "execution_count": 17,
   "metadata": {},
   "outputs": [
    {
     "name": "stdout",
     "output_type": "stream",
     "text": [
      "Index(['names', 'meanings'], dtype='object') Index(['names', 'meanings'], dtype='object')\n"
     ]
    }
   ],
   "source": [
    "# join csvs one below another culinary_vocab.csv and data_1.csv\n",
    "\n",
    "import pandas as pd\n",
    "import os\n",
    "\n",
    "df1 = pd.read_csv('data_2.csv')\n",
    "df2 = pd.read_csv('vocab_meanings.csv')\n",
    "\n",
    "#drop first column of df2\n",
    "\n",
    "print(df1.columns, df2.columns)\n",
    "\n",
    "# join df1 and df2 one below another\n",
    "df = pd.concat([df1, df2], axis=0)"
   ]
  },
  {
   "cell_type": "code",
   "execution_count": 18,
   "metadata": {},
   "outputs": [],
   "source": [
    "df.to_csv('data_3_.csv', index=False)"
   ]
  },
  {
   "cell_type": "code",
   "execution_count": 15,
   "metadata": {},
   "outputs": [
    {
     "data": {
      "text/html": [
       "<div>\n",
       "<style scoped>\n",
       "    .dataframe tbody tr th:only-of-type {\n",
       "        vertical-align: middle;\n",
       "    }\n",
       "\n",
       "    .dataframe tbody tr th {\n",
       "        vertical-align: top;\n",
       "    }\n",
       "\n",
       "    .dataframe thead th {\n",
       "        text-align: right;\n",
       "    }\n",
       "</style>\n",
       "<table border=\"1\" class=\"dataframe\">\n",
       "  <thead>\n",
       "    <tr style=\"text-align: right;\">\n",
       "      <th></th>\n",
       "      <th>names</th>\n",
       "      <th>meanings</th>\n",
       "    </tr>\n",
       "  </thead>\n",
       "  <tbody>\n",
       "    <tr>\n",
       "      <th>0.0</th>\n",
       "      <td>churrascarias</td>\n",
       "      <td>A steakhouse where food in a churrasco style i...</td>\n",
       "    </tr>\n",
       "    <tr>\n",
       "      <th>1.0</th>\n",
       "      <td>filleting</td>\n",
       "      <td>To slice bone or make into fillets.</td>\n",
       "    </tr>\n",
       "    <tr>\n",
       "      <th>2.0</th>\n",
       "      <td>nestle</td>\n",
       "      <td>To settle oneself comfortably and snugly.</td>\n",
       "    </tr>\n",
       "    <tr>\n",
       "      <th>3.0</th>\n",
       "      <td>quizno</td>\n",
       "      <td>NaN</td>\n",
       "    </tr>\n",
       "    <tr>\n",
       "      <th>4.0</th>\n",
       "      <td>vin</td>\n",
       "      <td>Vin or VIN may refer to:</td>\n",
       "    </tr>\n",
       "    <tr>\n",
       "      <th>...</th>\n",
       "      <td>...</td>\n",
       "      <td>...</td>\n",
       "    </tr>\n",
       "    <tr>\n",
       "      <th>99.0</th>\n",
       "      <td>truss</td>\n",
       "      <td>tying poultry limbs together, commonly with st...</td>\n",
       "    </tr>\n",
       "    <tr>\n",
       "      <th>100.0</th>\n",
       "      <td>velouté</td>\n",
       "      <td>sauce created by mixing roux with stock.</td>\n",
       "    </tr>\n",
       "    <tr>\n",
       "      <th>101.0</th>\n",
       "      <td>whip</td>\n",
       "      <td>adding air into food by beating it.</td>\n",
       "    </tr>\n",
       "    <tr>\n",
       "      <th>102.0</th>\n",
       "      <td>whisk</td>\n",
       "      <td>manually beating ingredients with a whisk or f...</td>\n",
       "    </tr>\n",
       "    <tr>\n",
       "      <th>103.0</th>\n",
       "      <td>zest</td>\n",
       "      <td>a noun meaning the peel of a citrus, or a verb...</td>\n",
       "    </tr>\n",
       "  </tbody>\n",
       "</table>\n",
       "<p>3376 rows × 2 columns</p>\n",
       "</div>"
      ],
      "text/plain": [
       "               names                                           meanings\n",
       "0.0    churrascarias  A steakhouse where food in a churrasco style i...\n",
       "1.0        filleting                To slice bone or make into fillets.\n",
       "2.0           nestle          To settle oneself comfortably and snugly.\n",
       "3.0           quizno                                                NaN\n",
       "4.0              vin                          Vin or VIN may refer to: \n",
       "...              ...                                                ...\n",
       "99.0           truss  tying poultry limbs together, commonly with st...\n",
       "100.0        velouté           sauce created by mixing roux with stock.\n",
       "101.0           whip                adding air into food by beating it.\n",
       "102.0          whisk  manually beating ingredients with a whisk or f...\n",
       "103.0           zest  a noun meaning the peel of a citrus, or a verb...\n",
       "\n",
       "[3376 rows x 2 columns]"
      ]
     },
     "execution_count": 15,
     "metadata": {},
     "output_type": "execute_result"
    }
   ],
   "source": []
  },
  {
   "cell_type": "code",
   "execution_count": 19,
   "metadata": {},
   "outputs": [],
   "source": [
    "# load dataPDF.csv and join with df\n",
    "df3 = pd.read_csv('dataPDF.csv')\n",
    "df = pd.concat([df, df3], axis=0)\n",
    "\n",
    "df.to_csv('data_3_.csv', index=False)"
   ]
  },
  {
   "cell_type": "code",
   "execution_count": 20,
   "metadata": {},
   "outputs": [],
   "source": [
    "df = pd.read_csv('submission_with_meanings.csv')\n",
    "df1 = pd.read_csv('dataPDF.csv', names=['names', 'meanings'])\n",
    "\n",
    "df = pd.concat([df, df1], axis=0)"
   ]
  },
  {
   "cell_type": "code",
   "execution_count": 22,
   "metadata": {},
   "outputs": [],
   "source": [
    "df.to_csv('submission_with_meanings.csv', index=False)"
   ]
  },
  {
   "cell_type": "code",
   "execution_count": 25,
   "metadata": {},
   "outputs": [],
   "source": []
  },
  {
   "cell_type": "code",
   "execution_count": 26,
   "metadata": {},
   "outputs": [
    {
     "data": {
      "text/html": [
       "<div>\n",
       "<style scoped>\n",
       "    .dataframe tbody tr th:only-of-type {\n",
       "        vertical-align: middle;\n",
       "    }\n",
       "\n",
       "    .dataframe tbody tr th {\n",
       "        vertical-align: top;\n",
       "    }\n",
       "\n",
       "    .dataframe thead th {\n",
       "        text-align: right;\n",
       "    }\n",
       "</style>\n",
       "<table border=\"1\" class=\"dataframe\">\n",
       "  <thead>\n",
       "    <tr style=\"text-align: right;\">\n",
       "      <th></th>\n",
       "      <th>names</th>\n",
       "      <th>meanings</th>\n",
       "    </tr>\n",
       "  </thead>\n",
       "  <tbody>\n",
       "    <tr>\n",
       "      <th>5</th>\n",
       "      <td>tomato</td>\n",
       "      <td>A widely cultivated plant Solanum lycopersicum...</td>\n",
       "    </tr>\n",
       "    <tr>\n",
       "      <th>11</th>\n",
       "      <td>cassoulet</td>\n",
       "      <td>A rich stew originating in southwest France co...</td>\n",
       "    </tr>\n",
       "    <tr>\n",
       "      <th>30</th>\n",
       "      <td>sashimi</td>\n",
       "      <td>A dish consisting of thin slices or pieces of ...</td>\n",
       "    </tr>\n",
       "    <tr>\n",
       "      <th>37</th>\n",
       "      <td>simmer</td>\n",
       "      <td>The state or process of simmering.</td>\n",
       "    </tr>\n",
       "    <tr>\n",
       "      <th>41</th>\n",
       "      <td>guacamole</td>\n",
       "      <td>An avocado-based greenish dip with onions toma...</td>\n",
       "    </tr>\n",
       "    <tr>\n",
       "      <th>...</th>\n",
       "      <td>...</td>\n",
       "      <td>...</td>\n",
       "    </tr>\n",
       "    <tr>\n",
       "      <th>3433</th>\n",
       "      <td>souffle</td>\n",
       "      <td>Light puffed baked custard.</td>\n",
       "    </tr>\n",
       "    <tr>\n",
       "      <th>3439</th>\n",
       "      <td>tripe</td>\n",
       "      <td>The white fatty inner lining of the stomach, ...</td>\n",
       "    </tr>\n",
       "    <tr>\n",
       "      <th>3441</th>\n",
       "      <td>vol-au-vent</td>\n",
       "      <td>Puff pastry case.</td>\n",
       "    </tr>\n",
       "    <tr>\n",
       "      <th>3442</th>\n",
       "      <td>wok</td>\n",
       "      <td>A concave pan used for stir frying.</td>\n",
       "    </tr>\n",
       "    <tr>\n",
       "      <th>3444</th>\n",
       "      <td>zest</td>\n",
       "      <td>The rind of orange or lemon grated and used f...</td>\n",
       "    </tr>\n",
       "  </tbody>\n",
       "</table>\n",
       "<p>684 rows × 2 columns</p>\n",
       "</div>"
      ],
      "text/plain": [
       "            names                                           meanings\n",
       "5          tomato  A widely cultivated plant Solanum lycopersicum...\n",
       "11      cassoulet  A rich stew originating in southwest France co...\n",
       "30        sashimi  A dish consisting of thin slices or pieces of ...\n",
       "37         simmer                 The state or process of simmering.\n",
       "41      guacamole  An avocado-based greenish dip with onions toma...\n",
       "...           ...                                                ...\n",
       "3433      souffle                       Light puffed baked custard. \n",
       "3439        tripe   The white fatty inner lining of the stomach, ...\n",
       "3441  vol-au-vent                                 Puff pastry case. \n",
       "3442          wok               A concave pan used for stir frying. \n",
       "3444         zest   The rind of orange or lemon grated and used f...\n",
       "\n",
       "[684 rows x 2 columns]"
      ]
     },
     "execution_count": 26,
     "metadata": {},
     "output_type": "execute_result"
    }
   ],
   "source": [
    "df"
   ]
  },
  {
   "cell_type": "code",
   "execution_count": null,
   "metadata": {},
   "outputs": [],
   "source": []
  }
 ],
 "metadata": {
  "kernelspec": {
   "display_name": "Python 3",
   "language": "python",
   "name": "python3"
  },
  "language_info": {
   "codemirror_mode": {
    "name": "ipython",
    "version": 3
   },
   "file_extension": ".py",
   "mimetype": "text/x-python",
   "name": "python",
   "nbconvert_exporter": "python",
   "pygments_lexer": "ipython3",
   "version": "3.8.1"
  },
  "orig_nbformat": 4,
  "vscode": {
   "interpreter": {
    "hash": "22475eb23e40dd7b65ba6ce08c4232f330744b78bf0f395659ba2343c9d6fca6"
   }
  }
 },
 "nbformat": 4,
 "nbformat_minor": 2
}
